{
 "metadata": {
  "name": "",
  "signature": "sha256:b01904c48b923d21f62484987d42e5dc4b38b4ddb7b8d841e650903d87f7cc51"
 },
 "nbformat": 3,
 "nbformat_minor": 0,
 "worksheets": [
  {
   "cells": [
    {
     "cell_type": "code",
     "collapsed": false,
     "input": [
      "import numpy as np\n",
      "\n",
      "def LU(M):\n",
      "    size = M.shape[0]\n",
      "    L = np.eye(size)\n",
      "    U = np.copy(M)\n",
      "    for i in range(size-1):\n",
      "        coeff = (U[i+1:,i]/U[i,i]).reshape(size-i-1,1)\n",
      "        U[i+1:,i:] -= coeff.dot(U[i,i:].reshape((1,size-i)))\n",
      "        L[i+1:,i] = coeff.reshape((size-i-1,))\n",
      "    return L, U\n",
      "\n",
      "def backward_sub(U, b):\n",
      "    size = U.shape[0]\n",
      "    x = np.zeros(size)\n",
      "    for i in range(size):\n",
      "        k = size-i-1\n",
      "        x[k] = (b[k]-U[k,k+1:].dot(x[k+1:]))/U[k,k]\n",
      "    return x\n",
      "\n",
      "def forward_sub(L, b):\n",
      "    size = L.shape[0]\n",
      "    x = np.zeros(size)\n",
      "    for i in range(size):\n",
      "        x[i] = (b[i]-L[i,:i].dot(x[:i]))/L[i,i]\n",
      "    return x\n",
      "\n",
      "def solve(A, b):\n",
      "    L, U = LU(A)\n",
      "    Ux = forward_sub(L, b)\n",
      "    x = backward_sub(U, Ux)\n",
      "    return x"
     ],
     "language": "python",
     "metadata": {},
     "outputs": [],
     "prompt_number": 1
    },
    {
     "cell_type": "code",
     "collapsed": false,
     "input": [
      "b = np.random.random(5)\n",
      "A = np.random.random((5,5))\n",
      "L, U = LU(A)\n",
      "x = backward_sub(U, b)\n",
      "print U.dot(x)\n",
      "x = forward_sub(L, b)\n",
      "print L.dot(x)\n",
      "print b\n",
      "x= np.linalg.solve(A, b)\n",
      "print x\n",
      "x = solve(A, b)\n",
      "print x"
     ],
     "language": "python",
     "metadata": {},
     "outputs": [
      {
       "output_type": "stream",
       "stream": "stdout",
       "text": [
        "[ 0.8315  0.749   0.7819  0.9146  0.7764]\n",
        "[ 0.8315  0.749   0.7819  0.9146  0.7764]\n",
        "[ 0.8315  0.749   0.7819  0.9146  0.7764]\n",
        "[ 1.0442 -0.6999 -1.1394  1.9771  0.4294]\n",
        "[ 1.0442 -0.6999 -1.1394  1.9771  0.4294]\n"
       ]
      }
     ],
     "prompt_number": 71
    },
    {
     "cell_type": "code",
     "collapsed": false,
     "input": [
      "np.set_printoptions(precision=4, suppress=True)\n",
      "\n",
      "D = np.random.random((5,5))\n",
      "print D\n",
      "L, U = LU(D)\n",
      "print L\n",
      "print U\n",
      "print L.dot(U)"
     ],
     "language": "python",
     "metadata": {},
     "outputs": [
      {
       "output_type": "stream",
       "stream": "stdout",
       "text": [
        "[[ 0.7255  0.9445  0.5721  0.2205  0.4904]\n",
        " [ 0.0188  0.7961  0.6641  0.5578  0.0431]\n",
        " [ 0.371   0.2799  0.7776  0.9808  0.5202]\n",
        " [ 0.9315  0.8499  0.1745  0.0999  0.3295]\n",
        " [ 0.1455  0.2453  0.9946  0.198   0.3888]]\n",
        "[[ 0.      0.      0.      1.      0.    ]\n",
        " [ 0.0202  1.      0.      0.      0.    ]\n",
        " [ 0.3983 -0.0751  0.      0.      1.    ]\n",
        " [ 0.7789  0.3628  0.2254  0.      0.    ]\n",
        " [ 0.1562  0.1446  0.869  -0.0917  0.    ]]\n",
        "[[ 0.9315  0.8499  0.1745  0.0999  0.3295]\n",
        " [ 0.      0.7789  0.6606  0.5558  0.0365]\n",
        " [ 0.      0.      0.8719  0.1021  0.3321]\n",
        " [ 0.      0.      0.      0.894   0.1032]\n",
        " [ 0.      0.      0.      0.      0.1551]]\n",
        "[[ 0.      0.      0.      0.894   0.1032]\n",
        " [ 0.0188  0.7961  0.6641  0.5578  0.0431]\n",
        " [ 0.371   0.2799  0.0198 -0.002   0.2836]\n",
        " [ 0.7255  0.9445  0.5721  0.3024  0.3447]\n",
        " [ 0.1455  0.2453  0.8805  0.1027  0.3359]]\n"
       ]
      }
     ],
     "prompt_number": 75
    },
    {
     "cell_type": "code",
     "collapsed": false,
     "input": [
      "def solveLU(L, U, b):\n",
      "    Ux = forward_sub(L, b)\n",
      "    x = backward_sub(U, Ux)\n",
      "    return x\n",
      "def solveUpdate(L, U, x, u, v):\n",
      "    z = solveLU(L, U, u)\n",
      "    y = x+v.dot(x)/(1-v.dot(z))*z\n",
      "    return y"
     ],
     "language": "python",
     "metadata": {},
     "outputs": [],
     "prompt_number": 81
    },
    {
     "cell_type": "code",
     "collapsed": false,
     "input": [
      "A = np.array([[2, 4, -2], [4, 9, -3], [-2, -1, 7]], dtype=np.float)\n",
      "b = np.array([2, 8, 10], dtype=np.float)\n",
      "\n",
      "L, U = LU(A)\n",
      "print L\n",
      "print U\n",
      "x = solveLU(L, U, b)\n",
      "u = np.array([1, 0, 0], dtype=np.float)\n",
      "v = np.array([0, 2, 0], dtype=np.float)\n",
      "y = solveUpdate(L, U, x, u, v)\n",
      "\n",
      "print x\n",
      "print y"
     ],
     "language": "python",
     "metadata": {},
     "outputs": [
      {
       "output_type": "stream",
       "stream": "stdout",
       "text": [
        "[[ 1.  0.  0.]\n",
        " [ 2.  1.  0.]\n",
        " [-1.  3.  1.]]\n",
        "[[ 2.  4. -2.]\n",
        " [ 0.  1.  1.]\n",
        " [ 0.  0.  2.]]\n",
        "[-7.  4.  0.]\n",
        "[ 3.      0.3333  2.3333]\n"
       ]
      }
     ],
     "prompt_number": 86
    },
    {
     "cell_type": "code",
     "collapsed": false,
     "input": [
      "A_prim = A.copy()\n",
      "A_prim[0][1] = 2\n",
      "print np.linalg.solve(A, b)\n",
      "print np.linalg.solve(A_prim, b)"
     ],
     "language": "python",
     "metadata": {},
     "outputs": [
      {
       "output_type": "stream",
       "stream": "stdout",
       "text": [
        "[-7.  4.  0.]\n",
        "[ 3.      0.3333  2.3333]\n"
       ]
      }
     ],
     "prompt_number": 87
    },
    {
     "cell_type": "code",
     "collapsed": false,
     "input": [
      "import numpy as np\n",
      "def H(n):\n",
      "    return 1.0/np.array([[i+j+1 for i in range(n)] for j in range(n)])\n",
      "\n",
      "def x(n):\n",
      "    return np.ones((n,1))\n",
      "\n",
      "def b(n):\n",
      "    return H(n).dot(x(n))\n",
      "\n",
      "def x_hat(n):\n",
      "    return np.linalg.solve(H(n), b(n))\n",
      "\n",
      "def r(n):\n",
      "    return b(n)-H(n).dot(x_hat(n))\n",
      "\n",
      "def error(n):\n",
      "    return x(n)-x_hat(n)\n",
      "\n",
      "def norm(v):\n",
      "    return np.max(np.abs(v))"
     ],
     "language": "python",
     "metadata": {},
     "outputs": [],
     "prompt_number": 3
    },
    {
     "cell_type": "code",
     "collapsed": false,
     "input": [
      "def k(n):\n",
      "    return str(norm(error(n)))+\" \"+str(norm(r(n)))+\" \"+str(n)\n",
      "\n",
      "print \"\\n\".join(map(k, range(1,20)))\n",
      "# print map(b, range(1,20))"
     ],
     "language": "python",
     "metadata": {},
     "outputs": [
      {
       "output_type": "stream",
       "stream": "stdout",
       "text": [
        "0.0 0.0 1\n",
        "5.55111512313e-16 0.0 2\n",
        "1.0325074129e-14 0.0 3\n",
        "1.51878509769e-13 0.0 4\n",
        "1.17061915716e-11 0.0 5\n",
        "6.1276483887e-10 1.11022302463e-16 6\n",
        "5.1173872917e-09 2.22044604925e-16 7\n",
        "9.14851222777e-07 2.22044604925e-16 8\n",
        "6.10767029541e-06 4.4408920985e-16 9\n",
        "0.000954703560542 4.4408920985e-16 10\n",
        "0.0140201274214 4.4408920985e-16 11\n",
        "0.411721169375 4.4408920985e-16 12\n",
        "10.00246926 4.4408920985e-16 13\n",
        "48.8334315551 2.22044604925e-15 14\n",
        "14.4840998262 4.4408920985e-16 15\n",
        "12.5231184128 4.4408920985e-16 16\n",
        "12.5006546665 4.4408920985e-16 17\n",
        "132.161002556 5.3290705182e-15 18\n",
        "130.634679135 2.6645352591e-15 19\n"
       ]
      }
     ],
     "prompt_number": 5
    },
    {
     "cell_type": "code",
     "collapsed": false,
     "input": [
      "def conds(n):\n",
      "    print n, np.linalg.cond(H(n), np.inf)\n",
      "    \n",
      "map(conds, range(1, 10))\n",
      "map(lambda n: np.linalg.cond(H(n+1), np.inf)/np.linalg.cond(H(n), np.inf), range(1, 10))"
     ],
     "language": "python",
     "metadata": {},
     "outputs": [
      {
       "output_type": "stream",
       "stream": "stdout",
       "text": [
        "1 1.0\n",
        "2 27.0\n",
        "3 748.0\n",
        "4 28375.0\n",
        "5 943656.0\n",
        "6 29070279.0029\n",
        "7 985194889.72\n",
        "8 33872790819.5\n",
        "9 1.0996509917e+12\n"
       ]
      },
      {
       "metadata": {},
       "output_type": "pyout",
       "prompt_number": 14,
       "text": [
        "[27.000000000000011,\n",
        " 27.703703703703795,\n",
        " 37.934491978605998,\n",
        " 33.256599118943456,\n",
        " 30.806012999379739,\n",
        " 33.890107818373167,\n",
        " 34.381817418000253,\n",
        " 32.46413906551134,\n",
        " 32.149950139241625]"
       ]
      }
     ],
     "prompt_number": 14
    },
    {
     "cell_type": "code",
     "collapsed": false,
     "input": [
      "29070279.0029/943656"
     ],
     "language": "python",
     "metadata": {},
     "outputs": [
      {
       "metadata": {},
       "output_type": "pyout",
       "prompt_number": 13,
       "text": [
        "30.806012999334502"
       ]
      }
     ],
     "prompt_number": 13
    },
    {
     "cell_type": "code",
     "collapsed": false,
     "input": [
      "def cond(n):\n",
      "    return np.linalg.cond(H(n), np.inf)\n",
      "    \n",
      "map(lambda n: cond(n+1)/cond(n), range(1, 10))"
     ],
     "language": "python",
     "metadata": {},
     "outputs": [
      {
       "metadata": {},
       "output_type": "pyout",
       "prompt_number": 4,
       "text": [
        "[27.000000000000011,\n",
        " 27.703703703703795,\n",
        " 37.934491978605998,\n",
        " 33.256599118943456,\n",
        " 30.806012999379739,\n",
        " 33.890107818373167,\n",
        " 34.381817418000253,\n",
        " 32.46413906551134,\n",
        " 32.149950139241625]"
       ]
      }
     ],
     "prompt_number": 4
    }
   ],
   "metadata": {}
  }
 ]
}