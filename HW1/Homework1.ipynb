{
 "metadata": {
  "name": "",
  "signature": "sha256:2c0005934b02940ea63cc5914b5ab24dc908f2c84ac2e19b231b0a78d8541987"
 },
 "nbformat": 3,
 "nbformat_minor": 0,
 "worksheets": [
  {
   "cells": [
    {
     "cell_type": "markdown",
     "metadata": {},
     "source": [
      "# HOMEWORK 1\n",
      "\n",
      "Dingcheng Yue"
     ]
    },
    {
     "cell_type": "markdown",
     "metadata": {},
     "source": [
      "###Problem 1: (20 points)\n",
      "\n",
      "**Consider the problem of evaluating the function sin $x$, in particular, the propagated data error, which is the error in the function value due to a perturbation $h$ in $x$.**\n",
      "\n",
      "(a) Estimate the the absolute and relative error in evaluating sin $x$.\n",
      "\n",
      "(b) Estimate the absolute and relative condition number for evaluating sin $x$.\n",
      "\n",
      "(c) Comment on your results from parts (a) and (b)."
     ]
    },
    {
     "cell_type": "markdown",
     "metadata": {},
     "source": [
      "(a) \n",
      "\n",
      "absolute Error = \n",
      "\n",
      "$$|\\sin(x+h)-\\sin(x)| \\approx h\\cos(x)$$\n",
      "\n",
      "relative Error = \n",
      "\n",
      "$$\\frac{|\\sin(x+h)-\\sin(x)|}{\\sin(x)} \\approx \\frac{h}{\\tan(x)}$$\n",
      "\n",
      "(b)\n",
      "\n",
      "absolute condition number =\n",
      "$$ |\\frac{d(\\sin x)}{dx}| = |\\cos(x)|$$\n",
      "\n",
      "relative condition number = \n",
      "\n",
      "$$|\\frac{d(sinx)}{dx}\\frac{x}{\\sin(x)}| = |\\frac{x}{\\tan(x)}| $$\n",
      "\n"
     ]
    },
    {
     "cell_type": "markdown",
     "metadata": {},
     "source": [
      "(c) As we can see that the absolute error is bounded by h. However, the relative error is not bounded, and when $x -> k\\pi,  \\forall k \\in \\bf{Z}$, the error is tromendously huge.\n",
      "\n",
      "(d) The absolute condition number is bounded by 1, however, the relative condition number is relatively large when $x->\\infty$ or when $x -> k\\pi, \\forall k \\in \\bf{Z}$, and the problem is then ill-conditioned"
     ]
    },
    {
     "cell_type": "markdown",
     "metadata": {},
     "source": [
      "###Problem 2: (10 points)\n",
      ">**In a floating-point number system having an underflow level of UFL = $10^{\u221238}$, which of the following computations will incur an underflow?**\n",
      "\n",
      ">(a) $a=\\sqrt{b^2+c^2}$, with $b=1$, $c=10^{\u221225}$\n",
      "\n",
      ">(b) $a=\\sqrt{b^2+c^2}$, with $b=c=10^{\u221225}$\n",
      "\n",
      ">(c) $u=(v\u00d7w)/(y\u00d7z)$, with $v=10^{\u221215}$, $w=10^{\u221230}, y=10^{\u221220}$, and $z=10^{\u221225}$\n",
      "\n",
      ">In each case where underflow occurs, is it reasonable simply to set to zero the quantity that\n",
      "\ufffc\ufffcunderflows?\n",
      "\n",
      "---------------------"
     ]
    },
    {
     "cell_type": "markdown",
     "metadata": {},
     "source": [
      "For (a) $c^2=10^{-50}$ and $b^2=1$ $\\frac{c^2}{b^2}$ way smaller than $10^{-35}$, so underflow accurs. Using taylor approximation, it should be around $b+\\frac{c^2}{2b}=1+5*10^{-26}$, since the error is relatively small, it is reasonable.\n",
      "\n",
      "For (b) the underflow will ocurr with $b^2<10^{38}$, $c^2<10^{38}$, the result will directly goes to 0 whereas the expected result should be around $\\sqrt{2}\\times 10^{-25}$, all the infomation is lost, so it is not reasonable.\n",
      "\n",
      "For (c) the underflow will occur with ($v \\times w$) and ($y \\times z$), the dividing zero will occur, so it is not reasonable."
     ]
    },
    {
     "cell_type": "markdown",
     "metadata": {},
     "source": [
      "### Problem 3: (15 points)\n",
      "    \n",
      ">**Consider the function**\n",
      "\n",
      ">$$f(x)= \\frac{1-\\cos x}{\\sin^2x}$$\n",
      "\n",
      "\n",
      ">(a) For what range of values of $x$ is it difficult to compute $f(x)$ accurately in floating-point arithmetic and why? Give two reasons.\n",
      "\n",
      ">(b) Give a rearrangement of the terms, called $g(x)$, such that the computation is more accurate in floating-point arithmetic for the range of x given in part (a).\n",
      "\n",
      ">(c) Write code to verify your conclusions about $f(x)$ and $g(x)$. Test several different values of $x$, and explain your results.\n",
      "\n",
      "------------------"
     ]
    },
    {
     "cell_type": "markdown",
     "metadata": {},
     "source": [
      "(a) For the range where $\\cos x$ is approximated to one, and $\\sin$ $x \\in (-10^{-6}, 10^{-6})$, \n",
      "\n",
      "First, when x->0, the denominator and numerator are both approaching zero, thus this might result in NAN which \n",
      "\n",
      "cos(x) in this case is very close to one, so $1-\\cos x$ will lose all the significant digits due to cancellation even resulting always zero.\n",
      "\n",
      "Second, if x is small enough, $sinx \\approx x$ is in this case a very small number, if x<$10^{-20}$, it will cause underflow."
     ]
    },
    {
     "cell_type": "markdown",
     "metadata": {},
     "source": [
      "(b) \n",
      "$$f(x) = \\frac{1-\\cos x}{\\sin^2x} = \\frac{(1-\\cos x)(1+\\cos x)}{(\\sin^2x)(1+\\cos x)} = \\frac{1}{1+\\cos x} $$"
     ]
    },
    {
     "cell_type": "markdown",
     "metadata": {},
     "source": [
      "(c) If we do Taylor expansion on $f(x)$, it is approximately \n",
      "\n",
      "$$\\frac{1}{2}+\\frac{x^2}{8}+O(x^4)$$\n",
      "\n",
      "Thus, when x is small, it should approach 2 like a quadratic function."
     ]
    },
    {
     "cell_type": "code",
     "collapsed": false,
     "input": [
      "from numpy import sin, cos\n",
      "def f(x):\n",
      "    return (1-cos(x))/(sin(x)*sin(x))\n",
      "\n",
      "def g(x):\n",
      "    return 1/(1+cos(x))\n",
      "\n",
      "def approx(x):\n",
      "    return 1/2.0+x*x/8.0"
     ],
     "language": "python",
     "metadata": {},
     "outputs": [],
     "prompt_number": 6
    },
    {
     "cell_type": "code",
     "collapsed": false,
     "input": [
      "from numpy import arange\n",
      "\n",
      "h= arange(0.0, 10.0, 1.0)\n",
      "x= 10**(-h)\n",
      "\n",
      "for line in zip(h\n",
      "                , f(x), g(x), approx(x)):\n",
      "    print \"x: 10^-%d, f:%f, g:%f, approx:%f\"%line"
     ],
     "language": "python",
     "metadata": {},
     "outputs": [
      {
       "output_type": "stream",
       "stream": "stdout",
       "text": [
        "x: 10^-0, f:0.649223, g:0.649223, approx:0.625000\n",
        "x: 10^-1, f:0.501252, g:0.501252, approx:0.501250\n",
        "x: 10^-2, f:0.500013, g:0.500013, approx:0.500012\n",
        "x: 10^-3, f:0.500000, g:0.500000, approx:0.500000\n",
        "x: 10^-4, f:0.500000, g:0.500000, approx:0.500000\n",
        "x: 10^-5, f:0.500000, g:0.500000, approx:0.500000\n",
        "x: 10^-6, f:0.500044, g:0.500000, approx:0.500000\n",
        "x: 10^-7, f:0.499600, g:0.500000, approx:0.500000\n",
        "x: 10^-8, f:0.000000, g:0.500000, approx:0.500000\n",
        "x: 10^-9, f:0.000000, g:0.500000, approx:0.500000\n"
       ]
      }
     ],
     "prompt_number": 10
    },
    {
     "cell_type": "markdown",
     "metadata": {},
     "source": [
      "As we can see from the above calculation, due to cancellation, when h is below the magnitute of $10^{-6}$, data started to fluctuate, and it completely disappear when it reaches below $10^{-8}$"
     ]
    },
    {
     "cell_type": "markdown",
     "metadata": {},
     "source": [
      "###Problem 4: (10 points)\n",
      "\n",
      ">(a) Compute the unit roundoff $\u03b5_{mach}$ and the underflow level (UFL) based on the IEEE double precision standard.\n",
      "\n",
      ">(b) Write code to determine the approximate values of the $\u03b5_{mach}$ and UFL. Comment on your approach and provide your numerical results.\n"
     ]
    },
    {
     "cell_type": "markdown",
     "metadata": {},
     "source": [
      "(a) For percision $p$, the unit roundoff $\\epsilon_{mach}$ can computed as the smallest number $\\epsilon$ such that $fl(1+\\epsilon)>1$. It is usually $\\epsilon_{mach}=\\frac{1}{2}\\beta^{1-p}$ and for here $\\beta=2$ and $p=53$, so $\\epsilon_{mach}=2^{-53}$\n",
      "\n",
      "The underflow level should be the smallest number that can be represended by floating point. UFL=$2^{-1074}$"
     ]
    },
    {
     "cell_type": "markdown",
     "metadata": {},
     "source": [
      "(b) "
     ]
    },
    {
     "cell_type": "code",
     "collapsed": false,
     "input": [
      "import numpy as np\n",
      "\n",
      "def machine_percision_test(p, b, data_type):\n",
      "    one = data_type(1) #test against\n",
      "    return one+(b**(-p))!=1 # fl(1+epsilon)!=fl(1)\n",
      "\n",
      "def machine_undeflow_test(p, b, data_type):\n",
      "    one = data_type(1) # test against\n",
      "    return b**(-p)!=0\n",
      "\n",
      "def epsilon_mach(data_type):\n",
      "    p = 1\n",
      "    b = data_type(2) # assume base of 2\n",
      "    while(machine_percision_test(p, b, data_type)):\n",
      "        p += 1\n",
      "    return p\n",
      "\n",
      "def UFL(data_type):\n",
      "    p = 1\n",
      "    b = data_type(2) # assume base of 2\n",
      "    while(machine_undeflow_test(p, b, data_type)):\n",
      "        p += 1\n",
      "    return p-1\n",
      "\n",
      "\n",
      "print \"The epsilon_machine for float 64 is 2^{-%d}, the UFL is 2^{-%d}\"%(epsilon_mach(np.float64), UFL(np.float64))\n",
      "print \"The epsilon_machine for float 128 is 2^{-%d}, the UFL is 2^{-%d}\"%(epsilon_mach(np.float128), UFL(np.float128))"
     ],
     "language": "python",
     "metadata": {},
     "outputs": [
      {
       "output_type": "stream",
       "stream": "stdout",
       "text": [
        "The epsilon_machine for float 64 is 2^{-53}, the UFL is 2^{-1074}\n",
        "The epsilon_machine for float 128 is 2^{-64}, the UFL is 2^{-16445}"
       ]
      },
      {
       "output_type": "stream",
       "stream": "stdout",
       "text": [
        "\n"
       ]
      }
     ],
     "prompt_number": 35
    },
    {
     "cell_type": "markdown",
     "metadata": {},
     "source": [
      "The code above is the way I am examing the $\\epsilon_{mach}$. Assume the base of two, and the code below is trying to calculate the percision $p$. It examines the float64 and float128 respectively. Using the fact that\n",
      "    \n",
      "$$fl(1+\\epsilon)-1!=0$$"
     ]
    },
    {
     "cell_type": "markdown",
     "metadata": {},
     "source": [
      "###Problem 5: (15 points)\n",
      "\n",
      ">Suppose you need to generate $n + 1$ equally spaced points on the interval [$a$, $b$], with spacing $h = (b\u2212a)/n$.\n",
      "\n",
      ">(a) In floating-point arithmetic, which of the following methods,\n",
      "\n",
      ">$$x_0 = a, \\quad x_k = x_{k-1} + h, \\quad k = 1, . . . , n$$\n",
      "\n",
      ">or\n",
      "\n",
      ">$$x_k =a+kh, \\quad k=0,...,n,$$\n",
      "\n",
      ">is better, and why?\n",
      "\n",
      ">(b) Write a program implementing both methods and find an example, say with $a = 0$ and $b = 1000$, that illustrates the difference between them. You should find an example such that $n < 10^9$. Explain why your example illustrates the behavior. You should find a way to clearly and concisely illustrate your example. Printing out a long list of numbers is not an acceptable choice.\n",
      "\n",
      ">__Hint: You may want to adjust the precision of your output to aid in finding an example. For this, you may find the following commands helpful:__\n",
      "\n",
      ">+ `format longe` (MATLAB)\n",
      ">+ `np.set printoptions(formatter={\u2019float\u2019: \u2019{: 0.16f}\u2019.format})` (Python)"
     ]
    },
    {
     "cell_type": "markdown",
     "metadata": {},
     "source": [
      "(a) The second method is better since every floating point operation will leads to protential percision lost. For the first method, To compute $x_k$, there are $k$ oporation that can lead to percision lost and for the second method, there are only two oporation"
     ]
    },
    {
     "cell_type": "code",
     "collapsed": false,
     "input": [
      "from numpy import arange, float16\n",
      "import numpy as np\n",
      "a = float16(0.0)\n",
      "b = float16(1000.0)\n",
      "n = float16(1e4)\n",
      "np.set_printoptions(formatter={'float': '{: 0.16f}'.format})\n",
      "def add_method(a, b, n):\n",
      "    h = (b-a)/n\n",
      "    x = a\n",
      "    xs = list()\n",
      "    for k in range(int(n)+1):\n",
      "        xs.append(x)\n",
      "        x = x+h\n",
      "    return xs\n",
      "\n",
      "def mult_method(a, b, n):\n",
      "    h = (b-a)/n\n",
      "    xs = list()\n",
      "    for k in range(int(n)+1):\n",
      "        x = a+k*h\n",
      "        xs.append(x)\n",
      "    return xs\n",
      "\n",
      "print \"The x(1000) for addition method is: %f\"%add_method(a, b, n)[-1]\n",
      "print \"The x(1000) for multiplication is: %f\"%mult_method(a, b, n)[-1]"
     ],
     "language": "python",
     "metadata": {},
     "outputs": [
      {
       "output_type": "stream",
       "stream": "stdout",
       "text": [
        "The x(1000) for addition method is: 256.000000\n",
        "The x(1000) for multiplication is: 999.755859"
       ]
      },
      {
       "output_type": "stream",
       "stream": "stdout",
       "text": [
        "\n"
       ]
      }
     ],
     "prompt_number": 4
    },
    {
     "cell_type": "markdown",
     "metadata": {},
     "source": [
      "The example above clearly illustrated the point that the addition has more damaging percision lose due to multiple floating point calculation. The actual $x_{10000}$ value should be 1000. As we can see, if we have very low percision, even $1\\times10^{4}$ iterations can leads to davastating error."
     ]
    },
    {
     "cell_type": "markdown",
     "metadata": {},
     "source": [
      "###Problem 6: (20 points)\n",
      "\n",
      ">(a) Write a program to compute an approximate value for the derivative of a function using the\n",
      "\ufffcfinite-difference formula\n",
      "\n",
      ">$$f\u2032(x) \u2248 \\frac{f(x + h) \u2212 f(x)}{h}.$$\n",
      "\n",
      ">Test your program using the function $\\cos(x)$ for $x = 1$. \n",
      "Determine the error by comparing with the true derivative, $\u2212\\sin(x$). \n",
      "Plot the magnitude of the error as a function of $h$, for $h = 10^{\u2212k}$, $k = 0,...,16$. You should use log scale for $h$ and for the magnitude of the error. \n",
      "Is there a minimum value for the magnitude of the error? \n",
      "How does the corresponding value for h compare with the rule of thumb $h \u2248 \\sqrt{\u03b5_{mach}}$ (derived in Example 1.3)? \n",
      "Your program should use double precision.\n",
      "\n",
      "\n",
      ">(b) Now, consider the 4th order central finite-difference formula for the first derivative \n",
      "\n",
      ">$$f\u2032(x)\u2248 \\frac{\u2212f(x+2h)+8f(x+h)\u22128f(x\u2212h)+f(x\u22122h)}{12h}$$\n",
      "\n",
      ">The truncation error for the finite difference approximation is bounded by $\\frac{Mh^4}{30}$ , where M is a\n",
      "bound on $|f^{(5)}(t)|$ for $t$ near $x$. The rounding error for evaluating the finite difference formula is bounded by $3\u03b5$. The total computational error is therefore bounded by the sum of the two\n",
      "\ufffc\ufffcfunctions\n",
      "\n",
      ">$$\\frac{Mh^4}{30}+\\frac{3\u03b5}{2h}.$$\n",
      "\n",
      ">Determine when the bound on the total computational error is minimized. Your answer should be an expression for $h$.\n",
      "\n",
      ">(c) Repeat part (a) with the central difference formula given in part (b) this time comparing with the rule of thumb determined in part (b).\n",
      "\n",
      "\n",
      ">(d) What would you expect to see occur if you performed the same process with the 2nd order centered finite difference formula for first derivative? Explain. You do not need to actually implement this one, just give a general description of what you would expect to see."
     ]
    },
    {
     "cell_type": "code",
     "collapsed": false,
     "input": [
      "from numpy import abs\n",
      "def finiteDiff(f, x, h):\n",
      "    return (f(x+h)-f(x))/h\n",
      "\n",
      "def error(f, df, x, h):\n",
      "    return abs(finiteDiff(f, x, h)-df(x))"
     ],
     "language": "python",
     "metadata": {},
     "outputs": [],
     "prompt_number": 38
    },
    {
     "cell_type": "code",
     "collapsed": false,
     "input": [
      "%matplotlib inline\n",
      "from numpy import sin, cos, minimum, arange\n",
      "from matplotlib import pyplot as plt\n",
      "import seaborn\n",
      "\n",
      "dcos = lambda x: -sin(x)\n",
      "\n",
      "sin_error = lambda h: error(cos, dcos, 1, h)\n",
      "\n",
      "k = arange(0, 16, 1) # the testing value\n",
      "h = 10.0**(-k)\n",
      "\n",
      "sin_errors = sin_error(h)\n",
      "plt.loglog(h, sin_errors)\n",
      "plt.title(\"Error for finite differnece formula respect to h\")\n",
      "plt.xlabel(\"h\")\n",
      "plt.ylabel(\"error\")\n",
      "\n",
      "print \"The smallest error is %e\"%min(sin_errors)"
     ],
     "language": "python",
     "metadata": {},
     "outputs": [
      {
       "output_type": "stream",
       "stream": "stdout",
       "text": [
        "The smallest error is 3.025119e-09\n"
       ]
      },
      {
       "metadata": {},
       "output_type": "display_data",
       "png": "[encoded data removed]",
       "text": [
        "<matplotlib.figure.Figure at 0x10383a250>"
       ]
      }
     ],
     "prompt_number": 39
    },
    {
     "cell_type": "markdown",
     "metadata": {},
     "source": [
      "Clearly we can see that the smallest value is $3.025119\\times10^{-9}$, and it is clearly near $\\sqrt{\\varepsilon_{mach}} \\approx 1.05\\times10^{-8}$, they are pretty close to each other"
     ]
    },
    {
     "cell_type": "markdown",
     "metadata": {},
     "source": [
      "Since $\\varepsilon = 2^{-53}$ and $M$ is bounded by $|\\sin(1)| = 0.841$\n",
      "\n",
      "$$\\frac{Mh^4}{30}+\\frac{3\\varepsilon}{2h}=\\frac{\\sin(1) \\times h^4}{30}+\\frac{3\\times 2^{-53}}{2h}\\le 2.268166692908161320254620528880668213828049756 \u00d7 10^{-13} when\\ h\\ \\approx 0.00108291$$"
     ]
    },
    {
     "cell_type": "code",
     "collapsed": false,
     "input": [
      "def finiteDiff4(f, x, h):\n",
      "    return (-f(x+2*h)+8*f(x+h)-8*f(x-h)+f(x-2*h))/(12*h)\n",
      "\n",
      "\n",
      "\n",
      "k = arange(0, 16, 1) # the testing value\n",
      "h = 10.0**(-k)\n",
      "\n",
      "sin_error4 = lambda h: abs(finiteDiff4(cos, 1, h)-dcos(1))\n",
      "\n",
      "sin_errors4 = sin_error4(h)\n",
      "plt.loglog(h, sin_errors4)\n",
      "plt.title(\"Error for finite differnece formula respect to h\")\n",
      "plt.xlabel(\"h\")\n",
      "plt.ylabel(\"error\")\n",
      "\n",
      "print \"The smallest error is %e\"%min(sin_errors4)"
     ],
     "language": "python",
     "metadata": {},
     "outputs": [
      {
       "output_type": "stream",
       "stream": "stdout",
       "text": [
        "The smallest error is 9.481305e-14\n"
       ]
      },
      {
       "metadata": {},
       "output_type": "display_data",
       "png": "[encoded data removed]",
       "text": [
        "<matplotlib.figure.Figure at 0x10a048c10>"
       ]
      }
     ],
     "prompt_number": 40
    },
    {
     "cell_type": "markdown",
     "metadata": {},
     "source": [
      "The error should not be between the fourth difference equation and the first difference equation. plot of h versus error should have the same trend as the fourth order and the first order, but with a different minimum between the first and the fourth."
     ]
    },
    {
     "cell_type": "markdown",
     "metadata": {},
     "source": [
      "### Problem 7: (10 points)\n",
      "    \n",
      ">Write a program to compute the absolute and relative errors in Stirling\u2019s approximation\n",
      "\n",
      ">$$ n!\\approx \\sqrt{2\u03c0n} \\left(\udbff\udc00\\frac{n}{e}\\right)^n$$\n",
      "\n",
      ">for $n = 1, . . . , 10$. Does the magnitude of the absolute error grow or shrink as $n$ increases? Does the\n",
      "magnitude of the relative error grow or shrink as $n$ increases?\n",
      "\n",
      "\n",
      ">**Hint**: When plotting errors, it is often most appropriate to use a either a log-log or semi-log plot, depending on the problem. For this problem you may find `plt.semilogy (Python)` or `semilogy (MATLAB)` helpful."
     ]
    },
    {
     "cell_type": "code",
     "collapsed": false,
     "input": [
      "from numpy import sqrt,pi,e,abs,arange\n",
      "\n",
      "import matplotlib.pyplot as plt\n",
      "def sterling(n):\n",
      "    return sqrt(2*pi*n)*(n/e)**n\n",
      "\n",
      "def fact(n):\n",
      "    accum = 1\n",
      "    for x in range(1,n+1):\n",
      "        accum *= x\n",
      "    return accum\n",
      "\n",
      "\n",
      "\n",
      "def absolute_error(real, approx, x):\n",
      "    return abs(real(x)-approx(x))\n",
      "\n",
      "def relative_error(real, approx, x):\n",
      "    return abs(real(x)-approx(x))/real(x)\n",
      "\n",
      "fact_abs_error = lambda x: absolute_error(fact, sterling, x)\n",
      "fact_rel_error = lambda x: relative_error(fact, sterling, x)\n",
      "\n"
     ],
     "language": "python",
     "metadata": {},
     "outputs": [],
     "prompt_number": 21
    },
    {
     "cell_type": "code",
     "collapsed": false,
     "input": [
      "%matplotlib inline\n",
      "import seaborn\n",
      "\n",
      "x = np.arange(1, 10, 1) # the testing value\n",
      "\n",
      "plt.semilogy(x, map(fact_abs_error, x))\n",
      "plt.title(\"Absolute value of stirling approximation\")\n",
      "plt.xlabel(\"n\")\n",
      "plt.ylabel(\"absolute value\")"
     ],
     "language": "python",
     "metadata": {},
     "outputs": [
      {
       "metadata": {},
       "output_type": "pyout",
       "prompt_number": 26,
       "text": [
        "<matplotlib.text.Text at 0x10fa4ded0>"
       ]
      },
      {
       "metadata": {},
       "output_type": "display_data",
       "png": "[encoded data removed]",
       "text": [
        "<matplotlib.figure.Figure at 0x10f666490>"
       ]
      }
     ],
     "prompt_number": 26
    },
    {
     "cell_type": "code",
     "collapsed": false,
     "input": [
      "plt.semilogy(x, map(fact_rel_error, x))\n",
      "plt.title(\"relative value of stirling approximation\")\n",
      "plt.xlabel(\"n\")\n",
      "plt.ylabel(\"absolute value\")"
     ],
     "language": "python",
     "metadata": {},
     "outputs": [
      {
       "metadata": {},
       "output_type": "pyout",
       "prompt_number": 27,
       "text": [
        "<matplotlib.text.Text at 0x10fd2a250>"
       ]
      },
      {
       "metadata": {},
       "output_type": "display_data",
       "png": "[encoded data removed]",
       "text": [
        "<matplotlib.figure.Figure at 0x10fb83ad0>"
       ]
      }
     ],
     "prompt_number": 27
    },
    {
     "cell_type": "markdown",
     "metadata": {},
     "source": [
      "As a result, the absolute error of stirling approximation increases as $n$ goes up\n",
      "\n",
      "the relative error of stirling approximation decreases as $n$ goes up"
     ]
    }
   ],
   "metadata": {}
  }
 ]
}