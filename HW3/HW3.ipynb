{
 "metadata": {
  "name": "",
  "signature": "sha256:ca62b0bc748cd75d180980a529af068ee9ebc607650738cfbd4458202aa2c099"
 },
 "nbformat": 3,
 "nbformat_minor": 0,
 "worksheets": [
  {
   "cells": [
    {
     "cell_type": "code",
     "collapsed": false,
     "input": [
      "\n",
      "import numpy as np\n",
      "\n",
      "def norm(x):\n",
      "    return np.max(np.abs(x))\n",
      "\n",
      "def normalise(x):\n",
      "    return x/norm(x)\n",
      "\n",
      "def shift(A, sigma):\n",
      "    return A-np.eye(len(A))*sigma\n",
      "\n",
      "def powerIter(A, x):\n",
      "    while True:\n",
      "        x = normalise(A.dot(x))\n",
      "        yield(x)\n",
      "\n",
      "def inversePowerIter(A, x):\n",
      "    while True:\n",
      "        x = np.linalg.solve(A, x)\n",
      "        x = x/norm(x)\n",
      "        yield(x)\n",
      "        \n",
      "def rayleighQuotient(A, x):\n",
      "    return x.dot(A).dot(x)/x.dot(x)\n",
      "\n",
      "A = np.array([[2.0, 3.0, 2.0],[10, 3, 4],[3, 6, 1]])\n",
      "x = np.array([0.0, 0.0, 1.0])\n",
      "\n",
      "def estimating(A, x, iterator, error=0.0):\n",
      "    # stop when it becomes stable, using infinity norm \n",
      "    v_prev = x\n",
      "    for v in iterator(A, x):\n",
      "        if norm(v_prev-v)<=error:\n",
      "            return v, rayleighQuotient(A, v)\n",
      "        else:\n",
      "            v_prev = v\n",
      "\n",
      "v,l = estimating(A, x, powerIter)\n",
      "print v, l\n"
     ],
     "language": "python",
     "metadata": {},
     "outputs": [
      {
       "output_type": "stream",
       "stream": "stdout",
       "text": [
        "[ 0.5   1.    0.75] 11.0\n"
       ]
      }
     ],
     "prompt_number": 31
    },
    {
     "cell_type": "code",
     "collapsed": false,
     "input": [
      "import numpy as np\n",
      "import numpy.linalg as la\n",
      "\n",
      "\n",
      "def norm(x):\n",
      "    return np.max(np.abs(x))\n",
      "\n",
      "def normalise(x):\n",
      "    return x/norm(x)\n",
      "\n",
      "def shift(A, sigma):\n",
      "    return A-np.eye(len(A))*sigma\n",
      "\n",
      "def powerIter(A, x):\n",
      "    while True:\n",
      "        x = A.dot(x)\n",
      "        x = x/norm(x)\n",
      "        yield(x)\n",
      "        \n",
      "def rayleighQuotient(A, x):\n",
      "    return x.dot(A).dot(x)/x.dot(x)\n",
      "\n",
      "def estimate(A, x, iterator, error=0.0):\n",
      "    # stop when it becomes stable, using infinity norm \n",
      "    v_prev = x\n",
      "    countinggg = 0\n",
      "    for v in iterator(A, x):\n",
      "        if norm(v_prev-v)<=error or countinggg>100:\n",
      "            return v, rayleighQuotient(A, v)\n",
      "        else:\n",
      "            v_prev = v\n",
      "            countinggg += 1\n",
      "            \n",
      "\n",
      "A = np.array([[2.0, 3.0, 2.0],[10, 3, 4],[3, 6, 1]])\n",
      "x = np.array([0.0, 0.0, 1.0])\n",
      "\n",
      "\n",
      "x1, lambda1 = estimate(A, x, powerIter)\n",
      "print x1, lambda1\n",
      "\n",
      "def deflation(A, x1):\n",
      "    v = x1.copy()\n",
      "    v[0]-=la.norm(x1)\n",
      "    H = np.eye(x1.size)-2*np.outer(v,v)/np.dot(v,v)\n",
      "    print H.dot(A).dot(la.inv(H))\n",
      "    return H.dot(A).dot(la.inv(H))[1:,1:]\n",
      "\n",
      "A2 = deflation(A, x1)\n",
      "\n",
      "x2, lambda2 = estimate(A2, np.array([1.0, 1.0]), powerIter)\n",
      "\n",
      "print x2, lambda2\n"
     ],
     "language": "python",
     "metadata": {},
     "outputs": [
      {
       "output_type": "stream",
       "stream": "stdout",
       "text": [
        "[ 0.5   1.    0.75] 11.0\n",
        "[[  1.10000000e+01   5.31653505e+00   3.24461993e+00]\n",
        " [ -6.66133815e-16  -4.87183094e-01   1.96689612e+00]\n",
        " [ -4.44089210e-16  -1.93270598e+00  -4.51281691e+00]]\n",
        "[-0.7827455  1.       ] -3.0\n"
       ]
      }
     ],
     "prompt_number": 13
    },
    {
     "cell_type": "code",
     "collapsed": false,
     "input": [
      "la.eig(A)"
     ],
     "language": "python",
     "metadata": {},
     "outputs": [
      {
       "metadata": {},
       "output_type": "pyout",
       "prompt_number": 14,
       "text": [
        "(array([ 11.,  -2.,  -3.]),\n",
        " array([[  3.71390676e-01,   1.82574186e-01,  -4.13692033e-16],\n",
        "        [  7.42781353e-01,   3.65148372e-01,  -5.54700196e-01],\n",
        "        [  5.57086015e-01,  -9.12870929e-01,   8.32050294e-01]]))"
       ]
      }
     ],
     "prompt_number": 14
    },
    {
     "cell_type": "code",
     "collapsed": false,
     "input": [
      "def shift(A, sigma):\n",
      "    return A-np.eye(len(A))*sigma\n",
      "\n",
      "v = np.array([0.5, 1.0, 0.75])\n",
      "\n",
      "\n",
      "estimate(shift(A, ))"
     ],
     "language": "python",
     "metadata": {},
     "outputs": []
    },
    {
     "cell_type": "code",
     "collapsed": false,
     "input": [
      "import numpy as np\n",
      "\n",
      "def norm(x):\n",
      "    return np.max(np.abs(x))\n",
      "\n",
      "def shift(A, sigma):\n",
      "    return A-np.eye(len(A))*sigma\n",
      "\n",
      "\n",
      "def inversePowerIter(A, x):\n",
      "    while True:\n",
      "        x = np.linalg.solve(A, x)\n",
      "        x = x/norm(x)\n",
      "        yield(x)\n",
      "\n",
      "A = np.array([[6.0, 2.0, 1.0],[2.0, 3.0, 1.0],[1.0, 1.0, 1.0]])\n",
      "x = np.array([0.0, 0.0, 1.0])\n",
      "\n",
      "def estimating(A, x, iterator, error=0.0):\n",
      "    # stop when it becomes stable, using infinity norm \n",
      "    v_prev = x\n",
      "    for v in iterator(A, x):\n",
      "        if norm(v_prev-v)<=error:\n",
      "            return v, rayleighQuotient(A, v)\n",
      "        else:\n",
      "            v_prev = v\n",
      "\n",
      "v,l = estimating(A, x, powerIter)\n",
      "print A.dot(v), l*v"
     ],
     "language": "python",
     "metadata": {},
     "outputs": [
      {
       "output_type": "stream",
       "stream": "stdout",
       "text": [
        "[ 7.28799214  3.81089231  1.76509197] [ 7.28799214  3.81089231  1.76509197]\n"
       ]
      }
     ],
     "prompt_number": 17
    },
    {
     "cell_type": "code",
     "collapsed": false,
     "input": [
      "print np.linalg.eig"
     ],
     "language": "python",
     "metadata": {},
     "outputs": []
    },
    {
     "cell_type": "code",
     "collapsed": false,
     "input": [
      "A = array([[1.0, 4.0], [1.0, 4.0]])\n",
      "print np.linalg.qr(A)"
     ],
     "language": "python",
     "metadata": {},
     "outputs": [
      {
       "output_type": "stream",
       "stream": "stdout",
       "text": [
        "(array([[-0.70710678, -0.70710678],\n",
        "       [-0.70710678,  0.70710678]]), array([[-1.41421356, -5.65685425],\n",
        "       [ 0.        ,  0.        ]]))\n"
       ]
      }
     ],
     "prompt_number": 57
    },
    {
     "cell_type": "code",
     "collapsed": false,
     "input": [
      "data = np.array([[-1.02494, -0.389269],\n",
      "[-0.949898, -0.322894],\n",
      "[-0.866114, -0.265256],\n",
      "[-0.773392, -0.216557],\n",
      "[-0.671372, -0.177152],\n",
      "[-0.559524, -0.147582],\n",
      "[-0.437067, -0.128618],\n",
      "[-0.302909, -0.121353],\n",
      "[-0.155493, -0.127348],\n",
      "[-0.007464, -0.148885]])\n",
      "\n",
      "X = data[:,0]\n",
      "Y = data[:,1]\n",
      "\n",
      "A = np.array([Y, X*Y, X, Y, ones(len(X))]).T\n",
      "\n",
      "b = X*X\n",
      "\n",
      "import numpy.linalg as la\n",
      "\n",
      "x,r, rank ,s = la.lstsq(A, b)\n",
      "\n",
      "print r\n",
      "print rank\n",
      "\n",
      "A = np.array([Y,ones(len(X))]).T\n",
      "\n",
      "b = X*X\n",
      "\n",
      "x,r, rank,s = la.lstsq(A, b)\n",
      "\n",
      "print r\n",
      "print rank"
     ],
     "language": "python",
     "metadata": {},
     "outputs": [
      {
       "output_type": "stream",
       "stream": "stdout",
       "text": [
        "[]\n",
        "4\n",
        "[ 0.11815527]\n",
        "2\n"
       ]
      }
     ],
     "prompt_number": 69
    },
    {
     "cell_type": "code",
     "collapsed": false,
     "input": [
      "import numpy as np\n",
      "def HouseHold(a):\n",
      "    size = a.size\n",
      "    e = np.zeros(size)\n",
      "    e[0] = 1\n",
      "    v = a+(np.linalg.norm(a))*e\n",
      "    return np.eye(size)-2*np.outer(v,v)/np.dot(v,v)\n",
      "\n",
      "A = np.array([[2.0, 3.0, 2.0],[10, 3, 4],[3, 6, 1]])\n",
      "\n",
      "def deflation(A, x1, lambda1):\n",
      "    v1 = np.zeros(x1.size)\n",
      "    v1[0] = lambda1/x1[0]\n",
      "    return A-np.outer(x1,v1)\n",
      "\n",
      "# a = np.array([2,1,2])\n",
      "estimating(deflation(A, v, 11), x, powerIter)"
     ],
     "language": "python",
     "metadata": {},
     "outputs": []
    },
    {
     "cell_type": "code",
     "collapsed": false,
     "input": [],
     "language": "python",
     "metadata": {},
     "outputs": []
    },
    {
     "cell_type": "code",
     "collapsed": false,
     "input": [
      "import numpy.linalg as la\n",
      "\n",
      "lambdas, xs = la.eig(A"
     ],
     "language": "python",
     "metadata": {},
     "outputs": []
    },
    {
     "cell_type": "code",
     "collapsed": false,
     "input": [
      "import numpy as np\n",
      "\n",
      "def norm(x):\n",
      "    return np.max(np.abs(x))\n",
      "\n",
      "def shift(A, sigma):\n",
      "    return A-np.eye(len(A))*sigma\n",
      "\n",
      "\n",
      "def inversePowerIter(A, x, near=2):\n",
      "    A = shift(A, near)\n",
      "    while True:\n",
      "        x = np.linalg.solve(A, x)\n",
      "        x = x/norm(x)\n",
      "        yield(x)\n",
      "\n",
      "A = np.array([[6.0, 2.0, 1.0],[2.0, 3.0, 1.0],[1.0, 1.0, 1.0]])\n",
      "x = np.array([0.0, 0.0, 1.0])\n",
      "        \n",
      "def rayleighQuotient(A, x):\n",
      "    return x.dot(A).dot(x)/x.dot(x)\n",
      "\n",
      "def estimating(A, x, iterator, error=0.0):\n",
      "    # stop when it becomes stable, using infinity norm \n",
      "    v_prev = x\n",
      "    for v in iterator(A, x):\n",
      "        if norm(v_prev-v)<=error:\n",
      "            return v, rayleighQuotient(A, v)\n",
      "        else:\n",
      "            v_prev = v\n",
      "\n",
      "x1, lambda1 = estimating(A, x, inversePowerIter)\n",
      "def deflation(A, x1):\n",
      "    v = x1.copy()\n",
      "    v[0]-=la.norm(x1)\n",
      "    H = np.eye(x1.size)-2*np.outer(v,v)/np.dot(v,v)\n",
      "    return H.dot(A).dot(la.inv(H))"
     ],
     "language": "python",
     "metadata": {},
     "outputs": [
      {
       "output_type": "stream",
       "stream": "stdout",
       "text": [
        "[[  2.13307448e+00  -9.71445147e-17   1.66533454e-16]\n",
        " [  1.66533454e-16   6.34775439e+00   2.32896185e+00]\n",
        " [  3.88578059e-16   2.32896185e+00   1.51917114e+00]] 2.13307447535\n"
       ]
      }
     ],
     "prompt_number": 66
    },
    {
     "cell_type": "code",
     "collapsed": false,
     "input": [
      "import numpy.linalg as la\n",
      "la.eigvalsh(A)"
     ],
     "language": "python",
     "metadata": {},
     "outputs": [
      {
       "metadata": {},
       "output_type": "pyout",
       "prompt_number": 2,
       "text": [
        "array([ 0.57893339,  2.13307448,  7.28799214])"
       ]
      }
     ],
     "prompt_number": 2
    },
    {
     "cell_type": "code",
     "collapsed": false,
     "input": [
      "def rayleighIter(A, x, near=2):\n",
      "    while True:\n",
      "        sigma = rayleighQuotient(A, x)\n",
      "        x = np.linalg.solve(shift(A, sigma), x)\n",
      "        x = x/norm(x)\n",
      "        yield(x)\n",
      "        \n",
      "print estimating(A, x, rayleighIter)"
     ],
     "language": "python",
     "metadata": {},
     "outputs": [
      {
       "output_type": "stream",
       "stream": "stdout",
       "text": [
        "(array([ 0.04614548,  0.37492113, -1.        ]), 0.57893338569105257)\n"
       ]
      }
     ],
     "prompt_number": 9
    },
    {
     "cell_type": "code",
     "collapsed": false,
     "input": [
      "import numpy as np\n",
      "import numpy.linalg as la\n",
      "import matplotlib.pyplot as plt\n",
      "import seaborn\n",
      "\n",
      "\n",
      "data = np.array([[-1.02494, -0.389269],\n",
      "[-0.949898, -0.322894],\n",
      "[-0.866114, -0.265256],\n",
      "[-0.773392, -0.216557],\n",
      "[-0.671372, -0.177152],\n",
      "[-0.559524, -0.147582],\n",
      "[-0.437067, -0.128618],\n",
      "[-0.302909, -0.121353],\n",
      "[-0.155493, -0.127348],\n",
      "[-0.007464, -0.148885]])\n",
      "\n",
      "X = data[:,0]\n",
      "Y = data[:,1]\n",
      "\n",
      "def lstsq_solve(A, x):\n",
      "    Q,R = la.qr(A)\n",
      "    x = la.solve(R, Q.T.dot(b))\n",
      "    r = A.dot(x)-b\n",
      "    return x, la.norm(r)\n",
      "\n",
      "\n",
      "def plot1(para):\n",
      "    x = np.linspace(-1, 0)\n",
      "    a,b,c,d,e = para\n",
      "    A = a\n",
      "    B = b*x+d\n",
      "    C = c*x+e-x**2\n",
      "    y = (-B+np.sqrt(B**2-4*A*C))/(2*A)\n",
      "#     pyplot.plot(x,y)\n",
      "    y = (-B-np.sqrt(B**2-4*A*C))/(2*A)\n",
      "    plt.plot(x,y, label=\"model1\")\n",
      "\n",
      "def plot2(para):\n",
      "    x = np.linspace(-1, 0)\n",
      "    d, e = para\n",
      "    y = (x**2-e)/d\n",
      "    plt.plot(x,y, label=\"model2\")\n",
      "\n",
      "plt.plot(X, Y, label=\"data\")\n",
      "    \n",
      "# first model x^2=ay^2+bxy+cx+dy+e\n",
      "A = np.array([Y*Y, X*Y, X, Y, np.ones(len(X))]).T\n",
      "b = X*X\n",
      "\n",
      "para, r = lstsq_solve(A, x)\n",
      "\n",
      "plot1(para)\n",
      "print r\n",
      "\n",
      "A = np.array([Y,np.ones(len(X))]).T\n",
      "\n",
      "b = X*X\n",
      "\n",
      "para, r = lstsq_solve(A, x)\n",
      "\n",
      "plot2(para)\n",
      "print r\n",
      "\n",
      "\n",
      "plt.legend()\n",
      "plt.xlabel(\"x value\")\n",
      "plt.ylabel(\"y value\")\n",
      "plt.show()\n"
     ],
     "language": "python",
     "metadata": {},
     "outputs": [
      {
       "output_type": "stream",
       "stream": "stdout",
       "text": [
        "0.00179380916718\n",
        "0.343737209495\n"
       ]
      },
      {
       "metadata": {},
       "output_type": "display_data",
       "png": "[encoded data removed]",
       "text": [
        "<matplotlib.figure.Figure at 0x10ad2a850>"
       ]
      }
     ],
     "prompt_number": 54
    },
    {
     "cell_type": "code",
     "collapsed": false,
     "input": [
      "def plot1(para):\n",
      "    x = np.linspace(-1, 1)\n",
      "    a,b,c,d,e = para\n",
      "    A = a\n",
      "    B = b*x+d\n",
      "    C = c*x+e-x**2\n",
      "    y = -B+np.sqrt(B**2-4*A*C)/(2*A)\n",
      "    pyplot.plot(x,y)\n",
      "    y = -B-np.sqrt(B**2-4*A*C)/(2*A)\n",
      "    pyplot.plot(x,y)\n",
      "\n",
      "def plot2(para):\n",
      "    x = np.linspace(-1, 1)\n",
      "    e, d = para\n",
      "    y = (e-x**2)/d\n",
      "    pyplot.plot(x,y)\n",
      "\n"
     ],
     "language": "python",
     "metadata": {},
     "outputs": [],
     "prompt_number": 27
    },
    {
     "cell_type": "code",
     "collapsed": false,
     "input": [
      "import matplotlib.pyplot as pyplot\n",
      "from matplotlib import \n",
      "import seaborn\n",
      "%matplotlib inline\n",
      "\n",
      "x = np.linspace(-1, 1)\n",
      "y = np.sqrt(x)\n",
      "\n",
      "pyplot.plot(x,y)"
     ],
     "language": "python",
     "metadata": {},
     "outputs": [
      {
       "ename": "ImportError",
       "evalue": "cannot import name plot",
       "output_type": "pyerr",
       "traceback": [
        "\u001b[0;31m---------------------------------------------------------------------------\u001b[0m\n\u001b[0;31mImportError\u001b[0m                               Traceback (most recent call last)",
        "\u001b[0;32m<ipython-input-29-c08ccc0c5576>\u001b[0m in \u001b[0;36m<module>\u001b[0;34m()\u001b[0m\n\u001b[1;32m      1\u001b[0m \u001b[0;32mimport\u001b[0m \u001b[0mmatplotlib\u001b[0m\u001b[0;34m.\u001b[0m\u001b[0mpyplot\u001b[0m \u001b[0;32mas\u001b[0m \u001b[0mpyplot\u001b[0m\u001b[0;34m\u001b[0m\u001b[0m\n\u001b[0;32m----> 2\u001b[0;31m \u001b[0;32mfrom\u001b[0m \u001b[0mmatplotlib\u001b[0m \u001b[0;32mimport\u001b[0m \u001b[0mplot\u001b[0m\u001b[0;34m\u001b[0m\u001b[0m\n\u001b[0m\u001b[1;32m      3\u001b[0m \u001b[0;32mimport\u001b[0m \u001b[0mseaborn\u001b[0m\u001b[0;34m\u001b[0m\u001b[0m\n\u001b[1;32m      4\u001b[0m \u001b[0mget_ipython\u001b[0m\u001b[0;34m(\u001b[0m\u001b[0;34m)\u001b[0m\u001b[0;34m.\u001b[0m\u001b[0mmagic\u001b[0m\u001b[0;34m(\u001b[0m\u001b[0;34mu'matplotlib inline'\u001b[0m\u001b[0;34m)\u001b[0m\u001b[0;34m\u001b[0m\u001b[0m\n\u001b[1;32m      5\u001b[0m \u001b[0;34m\u001b[0m\u001b[0m\n",
        "\u001b[0;31mImportError\u001b[0m: cannot import name plot"
       ]
      }
     ],
     "prompt_number": 29
    }
   ],
   "metadata": {}
  }
 ]
}